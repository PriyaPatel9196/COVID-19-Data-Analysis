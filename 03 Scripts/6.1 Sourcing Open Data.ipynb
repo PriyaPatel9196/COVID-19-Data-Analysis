{
 "cells": [
  {
   "cell_type": "markdown",
   "id": "a9fb66fe",
   "metadata": {},
   "source": [
    "## This script contains the following points:"
   ]
  },
  {
   "cell_type": "markdown",
   "id": "1f8a78bc",
   "metadata": {},
   "source": [
    "### 1.Importing Libraries."
   ]
  },
  {
   "cell_type": "markdown",
   "id": "f45bee13",
   "metadata": {},
   "source": [
    "### 2. Importing Data."
   ]
  },
  {
   "cell_type": "markdown",
   "id": "8a454092",
   "metadata": {},
   "source": [
    "### 3. Initial Data Exploration."
   ]
  },
  {
   "cell_type": "markdown",
   "id": "bc1d9397",
   "metadata": {},
   "source": [
    "#### 1)  From the initial inspection of the dataset, there are three type of variables."
   ]
  },
  {
   "cell_type": "markdown",
   "id": "a9e8acae",
   "metadata": {},
   "source": [
    "#### 2) Check the basic statistics for numerical variables."
   ]
  },
  {
   "cell_type": "markdown",
   "id": "eade4446",
   "metadata": {},
   "source": [
    "#### 3) Create histogram for numerical variables."
   ]
  },
  {
   "cell_type": "markdown",
   "id": "fae3448d",
   "metadata": {},
   "source": [
    "#### 4) Check the frequency counts for categorical varibles."
   ]
  },
  {
   "cell_type": "markdown",
   "id": "ec93b0eb",
   "metadata": {},
   "source": [
    "### 4. Checking for missing values."
   ]
  },
  {
   "cell_type": "markdown",
   "id": "43949815",
   "metadata": {},
   "source": [
    "### 5. Cheking for duplicates."
   ]
  },
  {
   "cell_type": "markdown",
   "id": "c8503ea0",
   "metadata": {},
   "source": [
    "### 6. Checking for mixed-type."
   ]
  },
  {
   "cell_type": "markdown",
   "id": "8174a0bb",
   "metadata": {},
   "source": [
    "### 7. Addressing errors and inconsistencies."
   ]
  },
  {
   "cell_type": "markdown",
   "id": "212036b6",
   "metadata": {},
   "source": [
    "### 8. Export dataframe file to 'Prepared Data' folder."
   ]
  },
  {
   "cell_type": "markdown",
   "id": "74d9c210",
   "metadata": {},
   "source": [
    "# 01. Importing libraries"
   ]
  },
  {
   "cell_type": "code",
   "execution_count": 1,
   "id": "ca3a42ec",
   "metadata": {},
   "outputs": [],
   "source": [
    "# Import libraries\n",
    "import pandas as pd\n",
    "import numpy as np\n",
    "import os\n",
    "import matplotlib.pyplot as plt\n",
    "import seaborn as sns\n",
    "import scipy\n",
    "import warnings"
   ]
  },
  {
   "cell_type": "code",
   "execution_count": 2,
   "id": "e48be7a6",
   "metadata": {},
   "outputs": [],
   "source": [
    "warnings.filterwarnings('ignore')"
   ]
  },
  {
   "cell_type": "markdown",
   "id": "2a7ddc64",
   "metadata": {},
   "source": [
    "# 02. Importing data"
   ]
  },
  {
   "cell_type": "code",
   "execution_count": 3,
   "id": "34adb16d",
   "metadata": {},
   "outputs": [],
   "source": [
    "df = pd.read_csv(r'C:\\Users\\Priya\\COVID-19 Deaths Conditions\\02 Data\\Original Data\\Conditions_Contributing_to_COVID-19_Deaths__by_State_and_Age__Provisional_2020-2023.csv', index_col = False)"
   ]
  },
  {
   "cell_type": "code",
   "execution_count": 4,
   "id": "59e0893a",
   "metadata": {},
   "outputs": [],
   "source": [
    "# Define the path to the data files\n",
    "path = r'C:\\Users\\Priya\\COVID-19 Deaths Conditions'"
   ]
  },
  {
   "cell_type": "code",
   "execution_count": 5,
   "id": "ea9d3cec",
   "metadata": {},
   "outputs": [
    {
     "data": {
      "text/plain": [
       "'C:\\\\Users\\\\Priya\\\\COVID-19 Deaths Conditions'"
      ]
     },
     "execution_count": 5,
     "metadata": {},
     "output_type": "execute_result"
    }
   ],
   "source": [
    "path"
   ]
  },
  {
   "cell_type": "code",
   "execution_count": 6,
   "id": "e39b9c5d",
   "metadata": {},
   "outputs": [],
   "source": [
    "# Load the dataset on COVID-19 deaths and contributing conditions\n",
    "df_covid = pd.read_csv(os.path.join(path, '02 Data', 'Original Data', 'Conditions_Contributing_to_COVID-19_Deaths__by_State_and_Age__Provisional_2020-2023.csv'), index_col = False)"
   ]
  },
  {
   "cell_type": "code",
   "execution_count": 7,
   "id": "df1ce531",
   "metadata": {},
   "outputs": [
    {
     "data": {
      "text/html": [
       "<div>\n",
       "<style scoped>\n",
       "    .dataframe tbody tr th:only-of-type {\n",
       "        vertical-align: middle;\n",
       "    }\n",
       "\n",
       "    .dataframe tbody tr th {\n",
       "        vertical-align: top;\n",
       "    }\n",
       "\n",
       "    .dataframe thead th {\n",
       "        text-align: right;\n",
       "    }\n",
       "</style>\n",
       "<table border=\"1\" class=\"dataframe\">\n",
       "  <thead>\n",
       "    <tr style=\"text-align: right;\">\n",
       "      <th></th>\n",
       "      <th>Data As Of</th>\n",
       "      <th>Start Date</th>\n",
       "      <th>End Date</th>\n",
       "      <th>Group</th>\n",
       "      <th>Year</th>\n",
       "      <th>Month</th>\n",
       "      <th>State</th>\n",
       "      <th>Condition Group</th>\n",
       "      <th>Condition</th>\n",
       "      <th>ICD10_codes</th>\n",
       "      <th>Age Group</th>\n",
       "      <th>COVID-19 Deaths</th>\n",
       "      <th>Number of Mentions</th>\n",
       "      <th>Flag</th>\n",
       "    </tr>\n",
       "  </thead>\n",
       "  <tbody>\n",
       "    <tr>\n",
       "      <th>0</th>\n",
       "      <td>9/24/2023</td>\n",
       "      <td>1/1/2020</td>\n",
       "      <td>9/23/2023</td>\n",
       "      <td>By Total</td>\n",
       "      <td>NaN</td>\n",
       "      <td>NaN</td>\n",
       "      <td>United States</td>\n",
       "      <td>Respiratory diseases</td>\n",
       "      <td>Influenza and pneumonia</td>\n",
       "      <td>J09-J18</td>\n",
       "      <td>0-24</td>\n",
       "      <td>1569.0</td>\n",
       "      <td>1647.0</td>\n",
       "      <td>NaN</td>\n",
       "    </tr>\n",
       "    <tr>\n",
       "      <th>1</th>\n",
       "      <td>9/24/2023</td>\n",
       "      <td>1/1/2020</td>\n",
       "      <td>9/23/2023</td>\n",
       "      <td>By Total</td>\n",
       "      <td>NaN</td>\n",
       "      <td>NaN</td>\n",
       "      <td>United States</td>\n",
       "      <td>Respiratory diseases</td>\n",
       "      <td>Influenza and pneumonia</td>\n",
       "      <td>J09-J18</td>\n",
       "      <td>25-34</td>\n",
       "      <td>5804.0</td>\n",
       "      <td>6029.0</td>\n",
       "      <td>NaN</td>\n",
       "    </tr>\n",
       "    <tr>\n",
       "      <th>2</th>\n",
       "      <td>9/24/2023</td>\n",
       "      <td>1/1/2020</td>\n",
       "      <td>9/23/2023</td>\n",
       "      <td>By Total</td>\n",
       "      <td>NaN</td>\n",
       "      <td>NaN</td>\n",
       "      <td>United States</td>\n",
       "      <td>Respiratory diseases</td>\n",
       "      <td>Influenza and pneumonia</td>\n",
       "      <td>J09-J18</td>\n",
       "      <td>35-44</td>\n",
       "      <td>15080.0</td>\n",
       "      <td>15699.0</td>\n",
       "      <td>NaN</td>\n",
       "    </tr>\n",
       "    <tr>\n",
       "      <th>3</th>\n",
       "      <td>9/24/2023</td>\n",
       "      <td>1/1/2020</td>\n",
       "      <td>9/23/2023</td>\n",
       "      <td>By Total</td>\n",
       "      <td>NaN</td>\n",
       "      <td>NaN</td>\n",
       "      <td>United States</td>\n",
       "      <td>Respiratory diseases</td>\n",
       "      <td>Influenza and pneumonia</td>\n",
       "      <td>J09-J18</td>\n",
       "      <td>45-54</td>\n",
       "      <td>37414.0</td>\n",
       "      <td>38878.0</td>\n",
       "      <td>NaN</td>\n",
       "    </tr>\n",
       "    <tr>\n",
       "      <th>4</th>\n",
       "      <td>9/24/2023</td>\n",
       "      <td>1/1/2020</td>\n",
       "      <td>9/23/2023</td>\n",
       "      <td>By Total</td>\n",
       "      <td>NaN</td>\n",
       "      <td>NaN</td>\n",
       "      <td>United States</td>\n",
       "      <td>Respiratory diseases</td>\n",
       "      <td>Influenza and pneumonia</td>\n",
       "      <td>J09-J18</td>\n",
       "      <td>55-64</td>\n",
       "      <td>82668.0</td>\n",
       "      <td>85708.0</td>\n",
       "      <td>NaN</td>\n",
       "    </tr>\n",
       "  </tbody>\n",
       "</table>\n",
       "</div>"
      ],
      "text/plain": [
       "  Data As Of Start Date   End Date     Group  Year  Month          State  \\\n",
       "0  9/24/2023   1/1/2020  9/23/2023  By Total   NaN    NaN  United States   \n",
       "1  9/24/2023   1/1/2020  9/23/2023  By Total   NaN    NaN  United States   \n",
       "2  9/24/2023   1/1/2020  9/23/2023  By Total   NaN    NaN  United States   \n",
       "3  9/24/2023   1/1/2020  9/23/2023  By Total   NaN    NaN  United States   \n",
       "4  9/24/2023   1/1/2020  9/23/2023  By Total   NaN    NaN  United States   \n",
       "\n",
       "        Condition Group                Condition ICD10_codes Age Group  \\\n",
       "0  Respiratory diseases  Influenza and pneumonia     J09-J18      0-24   \n",
       "1  Respiratory diseases  Influenza and pneumonia     J09-J18     25-34   \n",
       "2  Respiratory diseases  Influenza and pneumonia     J09-J18     35-44   \n",
       "3  Respiratory diseases  Influenza and pneumonia     J09-J18     45-54   \n",
       "4  Respiratory diseases  Influenza and pneumonia     J09-J18     55-64   \n",
       "\n",
       "   COVID-19 Deaths  Number of Mentions Flag  \n",
       "0           1569.0              1647.0  NaN  \n",
       "1           5804.0              6029.0  NaN  \n",
       "2          15080.0             15699.0  NaN  \n",
       "3          37414.0             38878.0  NaN  \n",
       "4          82668.0             85708.0  NaN  "
      ]
     },
     "execution_count": 7,
     "metadata": {},
     "output_type": "execute_result"
    }
   ],
   "source": [
    "df_covid.head()"
   ]
  },
  {
   "cell_type": "code",
   "execution_count": 8,
   "id": "8159e15e",
   "metadata": {},
   "outputs": [
    {
     "data": {
      "text/plain": [
       "(621000, 14)"
      ]
     },
     "execution_count": 8,
     "metadata": {},
     "output_type": "execute_result"
    }
   ],
   "source": [
    "df_covid.shape"
   ]
  },
  {
   "cell_type": "markdown",
   "id": "7ebacb9e",
   "metadata": {},
   "source": [
    "# 03. Initial Data Exploration"
   ]
  },
  {
   "cell_type": "markdown",
   "id": "6e20e439",
   "metadata": {},
   "source": [
    "### 1. From the initial inspection of the dataset, there are three type of variables."
   ]
  },
  {
   "cell_type": "markdown",
   "id": "994e78e3",
   "metadata": {},
   "source": [
    "### 1) Numerical Variables\n",
    "#### Year\n",
    "#### Month\n",
    "#### COVID-19 Deaths\n",
    "#### Number of Mentions"
   ]
  },
  {
   "cell_type": "markdown",
   "id": "ee800db5",
   "metadata": {},
   "source": [
    "### 2) Categorical Variables\n",
    "#### State\n",
    "#### Condition Group\n",
    "#### Condition\n",
    "#### ICD10_codes\n",
    "#### Age Group\n",
    "#### Flag"
   ]
  },
  {
   "cell_type": "markdown",
   "id": "22ca2109",
   "metadata": {},
   "source": [
    "### 3) Data Variables\n",
    "#### Data As Of\n",
    "#### Start Date\n",
    "#### End Date"
   ]
  },
  {
   "cell_type": "markdown",
   "id": "78a8aebe",
   "metadata": {},
   "source": [
    "### 2. Check the basic statistics for numerical variables."
   ]
  },
  {
   "cell_type": "code",
   "execution_count": 9,
   "id": "85970a60",
   "metadata": {},
   "outputs": [
    {
     "data": {
      "text/html": [
       "<div>\n",
       "<style scoped>\n",
       "    .dataframe tbody tr th:only-of-type {\n",
       "        vertical-align: middle;\n",
       "    }\n",
       "\n",
       "    .dataframe tbody tr th {\n",
       "        vertical-align: top;\n",
       "    }\n",
       "\n",
       "    .dataframe thead th {\n",
       "        text-align: right;\n",
       "    }\n",
       "</style>\n",
       "<table border=\"1\" class=\"dataframe\">\n",
       "  <thead>\n",
       "    <tr style=\"text-align: right;\">\n",
       "      <th></th>\n",
       "      <th>Year</th>\n",
       "      <th>Month</th>\n",
       "      <th>COVID-19 Deaths</th>\n",
       "      <th>Number of Mentions</th>\n",
       "    </tr>\n",
       "  </thead>\n",
       "  <tbody>\n",
       "    <tr>\n",
       "      <th>count</th>\n",
       "      <td>608580.000000</td>\n",
       "      <td>558900.000000</td>\n",
       "      <td>4.375510e+05</td>\n",
       "      <td>4.434230e+05</td>\n",
       "    </tr>\n",
       "    <tr>\n",
       "      <th>mean</th>\n",
       "      <td>2021.408163</td>\n",
       "      <td>6.200000</td>\n",
       "      <td>1.201179e+02</td>\n",
       "      <td>1.293348e+02</td>\n",
       "    </tr>\n",
       "    <tr>\n",
       "      <th>std</th>\n",
       "      <td>1.086436</td>\n",
       "      <td>3.350625</td>\n",
       "      <td>2.980201e+03</td>\n",
       "      <td>3.203936e+03</td>\n",
       "    </tr>\n",
       "    <tr>\n",
       "      <th>min</th>\n",
       "      <td>2020.000000</td>\n",
       "      <td>1.000000</td>\n",
       "      <td>0.000000e+00</td>\n",
       "      <td>0.000000e+00</td>\n",
       "    </tr>\n",
       "    <tr>\n",
       "      <th>25%</th>\n",
       "      <td>2020.000000</td>\n",
       "      <td>3.000000</td>\n",
       "      <td>0.000000e+00</td>\n",
       "      <td>0.000000e+00</td>\n",
       "    </tr>\n",
       "    <tr>\n",
       "      <th>50%</th>\n",
       "      <td>2021.000000</td>\n",
       "      <td>6.000000</td>\n",
       "      <td>0.000000e+00</td>\n",
       "      <td>0.000000e+00</td>\n",
       "    </tr>\n",
       "    <tr>\n",
       "      <th>75%</th>\n",
       "      <td>2022.000000</td>\n",
       "      <td>9.000000</td>\n",
       "      <td>1.800000e+01</td>\n",
       "      <td>1.900000e+01</td>\n",
       "    </tr>\n",
       "    <tr>\n",
       "      <th>max</th>\n",
       "      <td>2023.000000</td>\n",
       "      <td>12.000000</td>\n",
       "      <td>1.146242e+06</td>\n",
       "      <td>1.146242e+06</td>\n",
       "    </tr>\n",
       "  </tbody>\n",
       "</table>\n",
       "</div>"
      ],
      "text/plain": [
       "                Year          Month  COVID-19 Deaths  Number of Mentions\n",
       "count  608580.000000  558900.000000     4.375510e+05        4.434230e+05\n",
       "mean     2021.408163       6.200000     1.201179e+02        1.293348e+02\n",
       "std         1.086436       3.350625     2.980201e+03        3.203936e+03\n",
       "min      2020.000000       1.000000     0.000000e+00        0.000000e+00\n",
       "25%      2020.000000       3.000000     0.000000e+00        0.000000e+00\n",
       "50%      2021.000000       6.000000     0.000000e+00        0.000000e+00\n",
       "75%      2022.000000       9.000000     1.800000e+01        1.900000e+01\n",
       "max      2023.000000      12.000000     1.146242e+06        1.146242e+06"
      ]
     },
     "execution_count": 9,
     "metadata": {},
     "output_type": "execute_result"
    }
   ],
   "source": [
    "# Check the basic statistics of the dataset\n",
    "df_covid.describe()"
   ]
  },
  {
   "cell_type": "markdown",
   "id": "fb62ed73",
   "metadata": {},
   "source": [
    "#### Year distribution expected ranging from 2020 to 2023 and months expected ranging from January (1) to December (12).\n",
    "#### COVID-19 Deaths and Number of Mentions have a high maximum number and minimum number is zero."
   ]
  },
  {
   "cell_type": "markdown",
   "id": "d0918623",
   "metadata": {},
   "source": [
    "### 3. Create histogram for numerical variables."
   ]
  },
  {
   "cell_type": "code",
   "execution_count": 10,
   "id": "624cb950",
   "metadata": {},
   "outputs": [
    {
     "data": {
      "image/png": "[encoded data removed]",
      "text/plain": [
       "<Figure size 1500x1500 with 12 Axes>"
      ]
     },
     "metadata": {},
     "output_type": "display_data"
    }
   ],
   "source": [
    "# Create Plot histogram for numerical variables\n",
    "df_covid.hist(bins=15, figsize=(15,15), layout=(4,3), color = '#c94f8a')\n",
    "plt.tight_layout()\n",
    "plt.show()"
   ]
  },
  {
   "cell_type": "markdown",
   "id": "2b7e4a1d",
   "metadata": {},
   "source": [
    "### 4. Check the frequency counts for categorical varibles."
   ]
  },
  {
   "cell_type": "code",
   "execution_count": 11,
   "id": "f387817e",
   "metadata": {},
   "outputs": [
    {
     "data": {
      "text/plain": [
       "State\n",
       "United States           11500\n",
       "Pennsylvania            11500\n",
       "Nevada                  11500\n",
       "New Hampshire           11500\n",
       "New Jersey              11500\n",
       "New Mexico              11500\n",
       "New York                11500\n",
       "New York City           11500\n",
       "North Carolina          11500\n",
       "North Dakota            11500\n",
       "Ohio                    11500\n",
       "Oklahoma                11500\n",
       "Oregon                  11500\n",
       "Rhode Island            11500\n",
       "Alabama                 11500\n",
       "South Carolina          11500\n",
       "South Dakota            11500\n",
       "Tennessee               11500\n",
       "Texas                   11500\n",
       "Utah                    11500\n",
       "Vermont                 11500\n",
       "Virginia                11500\n",
       "Washington              11500\n",
       "West Virginia           11500\n",
       "Wisconsin               11500\n",
       "Wyoming                 11500\n",
       "Nebraska                11500\n",
       "Montana                 11500\n",
       "Missouri                11500\n",
       "Mississippi             11500\n",
       "Alaska                  11500\n",
       "Arizona                 11500\n",
       "Arkansas                11500\n",
       "California              11500\n",
       "Colorado                11500\n",
       "Connecticut             11500\n",
       "Delaware                11500\n",
       "District of Columbia    11500\n",
       "Florida                 11500\n",
       "Georgia                 11500\n",
       "Hawaii                  11500\n",
       "Idaho                   11500\n",
       "Illinois                11500\n",
       "Indiana                 11500\n",
       "Iowa                    11500\n",
       "Kansas                  11500\n",
       "Kentucky                11500\n",
       "Louisiana               11500\n",
       "Maine                   11500\n",
       "Maryland                11500\n",
       "Massachusetts           11500\n",
       "Michigan                11500\n",
       "Minnesota               11500\n",
       "Puerto Rico             11500\n",
       "Name: count, dtype: int64"
      ]
     },
     "execution_count": 11,
     "metadata": {},
     "output_type": "execute_result"
    }
   ],
   "source": [
    "# State frequency count\n",
    "df_covid['State'].value_counts(dropna = False)"
   ]
  },
  {
   "cell_type": "code",
   "execution_count": 12,
   "id": "a8cec43b",
   "metadata": {},
   "outputs": [
    {
     "data": {
      "text/plain": [
       "Condition Group\n",
       "Circulatory diseases                                                         189000\n",
       "Respiratory diseases                                                         162000\n",
       "Sepsis                                                                        27000\n",
       "Malignant neoplasms                                                           27000\n",
       "Diabetes                                                                      27000\n",
       "Obesity                                                                       27000\n",
       "Alzheimer disease                                                             27000\n",
       "Vascular and unspecified dementia                                             27000\n",
       "Renal failure                                                                 27000\n",
       "Intentional and unintentional injury, poisoning, and other adverse events     27000\n",
       "All other conditions and causes (residual)                                    27000\n",
       "COVID-19                                                                      27000\n",
       "Name: count, dtype: int64"
      ]
     },
     "execution_count": 12,
     "metadata": {},
     "output_type": "execute_result"
    }
   ],
   "source": [
    "# Condition Group frequency count\n",
    "df_covid['Condition Group'].value_counts(dropna = False)"
   ]
  },
  {
   "cell_type": "code",
   "execution_count": 13,
   "id": "93f5c0a0",
   "metadata": {},
   "outputs": [
    {
     "data": {
      "text/plain": [
       "Condition\n",
       "Influenza and pneumonia                                                      27000\n",
       "Other diseases of the circulatory system                                     27000\n",
       "All other conditions and causes (residual)                                   27000\n",
       "Intentional and unintentional injury, poisoning, and other adverse events    27000\n",
       "Renal failure                                                                27000\n",
       "Vascular and unspecified dementia                                            27000\n",
       "Alzheimer disease                                                            27000\n",
       "Obesity                                                                      27000\n",
       "Diabetes                                                                     27000\n",
       "Malignant neoplasms                                                          27000\n",
       "Sepsis                                                                       27000\n",
       "Cerebrovascular diseases                                                     27000\n",
       "Chronic lower respiratory diseases                                           27000\n",
       "Heart failure                                                                27000\n",
       "Cardiac arrhythmia                                                           27000\n",
       "Cardiac arrest                                                               27000\n",
       "Ischemic heart disease                                                       27000\n",
       "Hypertensive diseases                                                        27000\n",
       "Other diseases of the respiratory system                                     27000\n",
       "Respiratory arrest                                                           27000\n",
       "Respiratory failure                                                          27000\n",
       "Adult respiratory distress syndrome                                          27000\n",
       "COVID-19                                                                     27000\n",
       "Name: count, dtype: int64"
      ]
     },
     "execution_count": 13,
     "metadata": {},
     "output_type": "execute_result"
    }
   ],
   "source": [
    "# Condition frequency count\n",
    "df_covid['Condition'].value_counts(dropna = False)"
   ]
  },
  {
   "cell_type": "code",
   "execution_count": 14,
   "id": "097753a7",
   "metadata": {},
   "outputs": [
    {
     "data": {
      "text/plain": [
       "ICD10_codes\n",
       "J09-J18                                                                                                                                                                                 27000\n",
       "I00-I09, I26-I43, I51, I52, I70-I99                                                                                                                                                     27000\n",
       "A00-A39, A42-B99, D00-E07, E15-E64, E70-E90, F00, F02, F04-G26, G31-H95, K00-K93, L00-M99, N00-N16, N20-N98, O00-O99, P00-P96, Q00-Q99, R00-R08, R09.0, R09.1, R09.3, R09.8, R10-R99    27000\n",
       "S00-T98, V01-X59, X60-X84, X85-Y09, Y10-Y36, Y40-Y89, U01-U03                                                                                                                           27000\n",
       "N17-N19                                                                                                                                                                                 27000\n",
       "F01, F03                                                                                                                                                                                27000\n",
       "G30                                                                                                                                                                                     27000\n",
       "E65-E68                                                                                                                                                                                 27000\n",
       "E10-E14                                                                                                                                                                                 27000\n",
       "C00-C97                                                                                                                                                                                 27000\n",
       "A40-A41                                                                                                                                                                                 27000\n",
       "I60-I69                                                                                                                                                                                 27000\n",
       "J40-J47                                                                                                                                                                                 27000\n",
       "I50                                                                                                                                                                                     27000\n",
       "I44, I45, I47-I49                                                                                                                                                                       27000\n",
       "I46                                                                                                                                                                                     27000\n",
       "I20-I25                                                                                                                                                                                 27000\n",
       "I10-I15                                                                                                                                                                                 27000\n",
       "J00-J06, J20-J39, J60-J70, J81-J86, J90-J95, J97-J99, U04                                                                                                                               27000\n",
       "R09.2                                                                                                                                                                                   27000\n",
       "J96                                                                                                                                                                                     27000\n",
       "J80                                                                                                                                                                                     27000\n",
       "U071                                                                                                                                                                                    27000\n",
       "Name: count, dtype: int64"
      ]
     },
     "execution_count": 14,
     "metadata": {},
     "output_type": "execute_result"
    }
   ],
   "source": [
    "# ICD10_codes frequency count\n",
    "df_covid['ICD10_codes'].value_counts(dropna = False)"
   ]
  },
  {
   "cell_type": "code",
   "execution_count": 15,
   "id": "ea397ac8",
   "metadata": {},
   "outputs": [
    {
     "data": {
      "text/plain": [
       "Age Group\n",
       "0-24          62100\n",
       "25-34         62100\n",
       "35-44         62100\n",
       "45-54         62100\n",
       "55-64         62100\n",
       "65-74         62100\n",
       "75-84         62100\n",
       "85+           62100\n",
       "Not stated    62100\n",
       "All Ages      62100\n",
       "Name: count, dtype: int64"
      ]
     },
     "execution_count": 15,
     "metadata": {},
     "output_type": "execute_result"
    }
   ],
   "source": [
    "# Age Group frequency count\n",
    "df_covid['Age Group'].value_counts(dropna = False)"
   ]
  },
  {
   "cell_type": "code",
   "execution_count": 16,
   "id": "9bd6f2c0",
   "metadata": {},
   "outputs": [
    {
     "data": {
      "text/plain": [
       "Flag\n",
       "NaN                                                                                                                           437551\n",
       "One or more data cells have counts between 1-9 and have been suppressed in accordance with NCHS confidentiality standards.    183449\n",
       "Name: count, dtype: int64"
      ]
     },
     "execution_count": 16,
     "metadata": {},
     "output_type": "execute_result"
    }
   ],
   "source": [
    "# Flag frequency count\n",
    "df_covid['Flag'].value_counts(dropna = False)"
   ]
  },
  {
   "cell_type": "markdown",
   "id": "d23e333d",
   "metadata": {},
   "source": [
    "# 4. Checking for missing values"
   ]
  },
  {
   "cell_type": "code",
   "execution_count": 17,
   "id": "4061fd6a",
   "metadata": {},
   "outputs": [
    {
     "data": {
      "text/plain": [
       "Data As Of                 0\n",
       "Start Date                 0\n",
       "End Date                   0\n",
       "Group                      0\n",
       "Year                   12420\n",
       "Month                  62100\n",
       "State                      0\n",
       "Condition Group            0\n",
       "Condition                  0\n",
       "ICD10_codes                0\n",
       "Age Group                  0\n",
       "COVID-19 Deaths       183449\n",
       "Number of Mentions    177577\n",
       "Flag                  437551\n",
       "dtype: int64"
      ]
     },
     "execution_count": 17,
     "metadata": {},
     "output_type": "execute_result"
    }
   ],
   "source": [
    "# Check the data for missing values\n",
    "df_covid.isnull().sum()"
   ]
  },
  {
   "cell_type": "markdown",
   "id": "727565dc",
   "metadata": {},
   "source": [
    "### There are some missing values.\n",
    "#### Year : 12420\n",
    "#### Month : 62100\n",
    "#### COVID-19 Deaths : 183449\n",
    "#### Number of Mentions : 177577\n",
    "#### Flag : 437551"
   ]
  },
  {
   "cell_type": "markdown",
   "id": "2bc2735e",
   "metadata": {},
   "source": [
    "#### Missing values in the year column, these are all part of the Group 'By Total', indicating that the Year column is empty because the row represents an aggregartion.\n",
    "#### Missing values in the Month column also correspond to the Group column is either 'By Total' or 'By Year', again indicating these rows represent aggregated data.\n",
    "#### If we remove these rows of aggregated data will address the missing values in both the Year and Month columns, and also provide more accurate descriptive statistics of the dataset."
   ]
  },
  {
   "cell_type": "code",
   "execution_count": 18,
   "id": "eb2ecbd1",
   "metadata": {},
   "outputs": [],
   "source": [
    "# Separate the dataframe into two parts\n",
    "# First dataframe includes Group only 'By Month'\n",
    "df_covid_month = df_covid[df_covid['Group'] == 'By Month']"
   ]
  },
  {
   "cell_type": "code",
   "execution_count": 19,
   "id": "96fa5770",
   "metadata": {},
   "outputs": [],
   "source": [
    "# Second dataframe includes Group 'By Total' and 'By Year'\n",
    "df_covid_total_year = df_covid[df_covid['Group'].isin(['By Total', 'By Year'])]"
   ]
  },
  {
   "cell_type": "code",
   "execution_count": 20,
   "id": "1fbabdf4",
   "metadata": {},
   "outputs": [
    {
     "name": "stdout",
     "output_type": "stream",
     "text": [
      "<class 'pandas.core.frame.DataFrame'>\n",
      "Index: 62100 entries, 0 to 62099\n",
      "Data columns (total 14 columns):\n",
      " #   Column              Non-Null Count  Dtype  \n",
      "---  ------              --------------  -----  \n",
      " 0   Data As Of          62100 non-null  object \n",
      " 1   Start Date          62100 non-null  object \n",
      " 2   End Date            62100 non-null  object \n",
      " 3   Group               62100 non-null  object \n",
      " 4   Year                49680 non-null  float64\n",
      " 5   Month               0 non-null      float64\n",
      " 6   State               62100 non-null  object \n",
      " 7   Condition Group     62100 non-null  object \n",
      " 8   Condition           62100 non-null  object \n",
      " 9   ICD10_codes         62100 non-null  object \n",
      " 10  Age Group           62100 non-null  object \n",
      " 11  COVID-19 Deaths     49051 non-null  float64\n",
      " 12  Number of Mentions  49703 non-null  float64\n",
      " 13  Flag                13049 non-null  object \n",
      "dtypes: float64(4), object(10)\n",
      "memory usage: 7.1+ MB\n"
     ]
    }
   ],
   "source": [
    "# Check the seperation\n",
    "df_covid_total_year.info()"
   ]
  },
  {
   "cell_type": "code",
   "execution_count": 21,
   "id": "9d3e54d0",
   "metadata": {},
   "outputs": [
    {
     "name": "stdout",
     "output_type": "stream",
     "text": [
      "<class 'pandas.core.frame.DataFrame'>\n",
      "Index: 558900 entries, 62100 to 620999\n",
      "Data columns (total 14 columns):\n",
      " #   Column              Non-Null Count   Dtype  \n",
      "---  ------              --------------   -----  \n",
      " 0   Data As Of          558900 non-null  object \n",
      " 1   Start Date          558900 non-null  object \n",
      " 2   End Date            558900 non-null  object \n",
      " 3   Group               558900 non-null  object \n",
      " 4   Year                558900 non-null  float64\n",
      " 5   Month               558900 non-null  float64\n",
      " 6   State               558900 non-null  object \n",
      " 7   Condition Group     558900 non-null  object \n",
      " 8   Condition           558900 non-null  object \n",
      " 9   ICD10_codes         558900 non-null  object \n",
      " 10  Age Group           558900 non-null  object \n",
      " 11  COVID-19 Deaths     388500 non-null  float64\n",
      " 12  Number of Mentions  393720 non-null  float64\n",
      " 13  Flag                170400 non-null  object \n",
      "dtypes: float64(4), object(10)\n",
      "memory usage: 64.0+ MB\n"
     ]
    }
   ],
   "source": [
    "df_covid_month.info()"
   ]
  },
  {
   "cell_type": "code",
   "execution_count": 22,
   "id": "7d8648c9",
   "metadata": {},
   "outputs": [
    {
     "data": {
      "text/plain": [
       "621000"
      ]
     },
     "execution_count": 22,
     "metadata": {},
     "output_type": "execute_result"
    }
   ],
   "source": [
    "# Check the total rows\n",
    "len(df_covid)"
   ]
  },
  {
   "cell_type": "code",
   "execution_count": 23,
   "id": "ee433d40",
   "metadata": {},
   "outputs": [
    {
     "data": {
      "text/plain": [
       "621000"
      ]
     },
     "execution_count": 23,
     "metadata": {},
     "output_type": "execute_result"
    }
   ],
   "source": [
    "len(df_covid_total_year) + len(df_covid_month)"
   ]
  },
  {
   "cell_type": "code",
   "execution_count": 24,
   "id": "6e2e2869",
   "metadata": {},
   "outputs": [
    {
     "data": {
      "text/plain": [
       "Data As Of                 0\n",
       "Start Date                 0\n",
       "End Date                   0\n",
       "Group                      0\n",
       "Year                       0\n",
       "Month                      0\n",
       "State                      0\n",
       "Condition Group            0\n",
       "Condition                  0\n",
       "ICD10_codes                0\n",
       "Age Group                  0\n",
       "COVID-19 Deaths       170400\n",
       "Number of Mentions    165180\n",
       "Flag                  388500\n",
       "dtype: int64"
      ]
     },
     "execution_count": 24,
     "metadata": {},
     "output_type": "execute_result"
    }
   ],
   "source": [
    "# Check the number of missing values in the 'df_covid_month' dataframe\n",
    "df_covid_month.isnull().sum()"
   ]
  },
  {
   "cell_type": "markdown",
   "id": "fda6eaa1",
   "metadata": {},
   "source": [
    "#### The missing values in the COVID-19 Deaths and Number of Mentions columns correspond with the Flag column value of 'One or more data cells have counts between 1-9 and have been suppressed in accordance with NCHS confidentially  standarts.'\n",
    "#### I will imput a random number between 1 to 9 into the missing values of COVID-19 Deaths and Number of Mentions when the flag indicator is present."
   ]
  },
  {
   "cell_type": "code",
   "execution_count": 25,
   "id": "44a83c97",
   "metadata": {},
   "outputs": [],
   "source": [
    "# Define function to generate random integers between 1 to 9\n",
    "def random_1_to_9(series):\n",
    "    return series.apply(lambda x: np.random.randint(1,10) if pd.isnull(x) else x)"
   ]
  },
  {
   "cell_type": "code",
   "execution_count": 26,
   "id": "1cfcb688",
   "metadata": {},
   "outputs": [],
   "source": [
    "# Check rows with suppression flag\n",
    "suppression_message = \"One or more data cells have counts between 1-9 and have been suppressed in accordance with NCHS confidentiality standards.\"\n",
    "suppressed_rows = df_covid_month[df_covid_month['Flag'] == suppression_message]"
   ]
  },
  {
   "cell_type": "code",
   "execution_count": 27,
   "id": "9b53292d",
   "metadata": {},
   "outputs": [],
   "source": [
    "# Impute only the missing values in COVID-19 Deaths and Mentions with a random number between 1 to 9\n",
    "df_covid_month.loc[suppressed_rows.index, 'COVID-19 Deaths'] = random_1_to_9(suppressed_rows['COVID-19 Deaths'])\n",
    "df_covid_month.loc[suppressed_rows.index, 'Number of Mentions'] = random_1_to_9(suppressed_rows['Number of Mentions'])"
   ]
  },
  {
   "cell_type": "code",
   "execution_count": 28,
   "id": "d8120dfe",
   "metadata": {},
   "outputs": [
    {
     "data": {
      "text/html": [
       "<div>\n",
       "<style scoped>\n",
       "    .dataframe tbody tr th:only-of-type {\n",
       "        vertical-align: middle;\n",
       "    }\n",
       "\n",
       "    .dataframe tbody tr th {\n",
       "        vertical-align: top;\n",
       "    }\n",
       "\n",
       "    .dataframe thead th {\n",
       "        text-align: right;\n",
       "    }\n",
       "</style>\n",
       "<table border=\"1\" class=\"dataframe\">\n",
       "  <thead>\n",
       "    <tr style=\"text-align: right;\">\n",
       "      <th></th>\n",
       "      <th>Year</th>\n",
       "      <th>Month</th>\n",
       "      <th>COVID-19 Deaths</th>\n",
       "      <th>Number of Mentions</th>\n",
       "    </tr>\n",
       "  </thead>\n",
       "  <tbody>\n",
       "    <tr>\n",
       "      <th>count</th>\n",
       "      <td>558900.000000</td>\n",
       "      <td>558900.000000</td>\n",
       "      <td>558900.000000</td>\n",
       "      <td>558900.000000</td>\n",
       "    </tr>\n",
       "    <tr>\n",
       "      <th>mean</th>\n",
       "      <td>2021.400000</td>\n",
       "      <td>6.200000</td>\n",
       "      <td>32.242115</td>\n",
       "      <td>35.052644</td>\n",
       "    </tr>\n",
       "    <tr>\n",
       "      <th>std</th>\n",
       "      <td>1.083206</td>\n",
       "      <td>3.350625</td>\n",
       "      <td>483.282386</td>\n",
       "      <td>518.791603</td>\n",
       "    </tr>\n",
       "    <tr>\n",
       "      <th>min</th>\n",
       "      <td>2020.000000</td>\n",
       "      <td>1.000000</td>\n",
       "      <td>0.000000</td>\n",
       "      <td>0.000000</td>\n",
       "    </tr>\n",
       "    <tr>\n",
       "      <th>25%</th>\n",
       "      <td>2020.000000</td>\n",
       "      <td>3.000000</td>\n",
       "      <td>0.000000</td>\n",
       "      <td>0.000000</td>\n",
       "    </tr>\n",
       "    <tr>\n",
       "      <th>50%</th>\n",
       "      <td>2021.000000</td>\n",
       "      <td>6.000000</td>\n",
       "      <td>1.000000</td>\n",
       "      <td>1.000000</td>\n",
       "    </tr>\n",
       "    <tr>\n",
       "      <th>75%</th>\n",
       "      <td>2022.000000</td>\n",
       "      <td>9.000000</td>\n",
       "      <td>8.000000</td>\n",
       "      <td>8.000000</td>\n",
       "    </tr>\n",
       "    <tr>\n",
       "      <th>max</th>\n",
       "      <td>2023.000000</td>\n",
       "      <td>12.000000</td>\n",
       "      <td>105566.000000</td>\n",
       "      <td>105566.000000</td>\n",
       "    </tr>\n",
       "  </tbody>\n",
       "</table>\n",
       "</div>"
      ],
      "text/plain": [
       "                Year          Month  COVID-19 Deaths  Number of Mentions\n",
       "count  558900.000000  558900.000000    558900.000000       558900.000000\n",
       "mean     2021.400000       6.200000        32.242115           35.052644\n",
       "std         1.083206       3.350625       483.282386          518.791603\n",
       "min      2020.000000       1.000000         0.000000            0.000000\n",
       "25%      2020.000000       3.000000         0.000000            0.000000\n",
       "50%      2021.000000       6.000000         1.000000            1.000000\n",
       "75%      2022.000000       9.000000         8.000000            8.000000\n",
       "max      2023.000000      12.000000    105566.000000       105566.000000"
      ]
     },
     "execution_count": 28,
     "metadata": {},
     "output_type": "execute_result"
    }
   ],
   "source": [
    "# Check the changes by comparing the number of cells with values between 1 to 9\n",
    "df_covid_month.describe()"
   ]
  },
  {
   "cell_type": "code",
   "execution_count": 29,
   "id": "4c0f9127",
   "metadata": {},
   "outputs": [
    {
     "data": {
      "text/plain": [
       "COVID-19 Deaths\n",
       "0.0         275134\n",
       "1.0          19178\n",
       "2.0          19297\n",
       "3.0          19041\n",
       "4.0          19034\n",
       "             ...  \n",
       "63446.0          1\n",
       "65477.0          1\n",
       "83984.0          1\n",
       "98080.0          1\n",
       "105566.0         1\n",
       "Name: count, Length: 2726, dtype: int64"
      ]
     },
     "execution_count": 29,
     "metadata": {},
     "output_type": "execute_result"
    }
   ],
   "source": [
    "# Verify the changes by checking value counts\n",
    "df_covid_month['COVID-19 Deaths'].value_counts().sort_index()"
   ]
  },
  {
   "cell_type": "code",
   "execution_count": 30,
   "id": "96101aba",
   "metadata": {},
   "outputs": [
    {
     "data": {
      "text/plain": [
       "Number of Mentions\n",
       "0.0         275134\n",
       "1.0          18534\n",
       "2.0          18510\n",
       "3.0          18537\n",
       "4.0          18555\n",
       "             ...  \n",
       "65364.0          1\n",
       "65477.0          1\n",
       "83984.0          1\n",
       "98080.0          1\n",
       "105566.0         1\n",
       "Name: count, Length: 2875, dtype: int64"
      ]
     },
     "execution_count": 30,
     "metadata": {},
     "output_type": "execute_result"
    }
   ],
   "source": [
    "df_covid_month['Number of Mentions'].value_counts().sort_index()"
   ]
  },
  {
   "cell_type": "code",
   "execution_count": 31,
   "id": "8e266572",
   "metadata": {},
   "outputs": [
    {
     "data": {
      "text/plain": [
       "Data As Of                 0\n",
       "Start Date                 0\n",
       "End Date                   0\n",
       "Group                      0\n",
       "Year                       0\n",
       "Month                      0\n",
       "State                      0\n",
       "Condition Group            0\n",
       "Condition                  0\n",
       "ICD10_codes                0\n",
       "Age Group                  0\n",
       "COVID-19 Deaths            0\n",
       "Number of Mentions         0\n",
       "Flag                  388500\n",
       "dtype: int64"
      ]
     },
     "execution_count": 31,
     "metadata": {},
     "output_type": "execute_result"
    }
   ],
   "source": [
    "# Check the missing values in the dataframe\n",
    "df_covid_month.isnull().sum()"
   ]
  },
  {
   "cell_type": "markdown",
   "id": "a07fef1b",
   "metadata": {},
   "source": [
    "#### The only missing values remaining are in the Flag column and are expected, so on further action is necessary."
   ]
  },
  {
   "cell_type": "markdown",
   "id": "7b05a2ba",
   "metadata": {},
   "source": [
    "# 5. Cheking for duplicates"
   ]
  },
  {
   "cell_type": "code",
   "execution_count": 32,
   "id": "2d46266c",
   "metadata": {},
   "outputs": [
    {
     "data": {
      "text/plain": [
       "0"
      ]
     },
     "execution_count": 32,
     "metadata": {},
     "output_type": "execute_result"
    }
   ],
   "source": [
    "# Check for duplicate rows in the dataset\n",
    "df_covid_month.duplicated().sum()"
   ]
  },
  {
   "cell_type": "markdown",
   "id": "8eda4181",
   "metadata": {},
   "source": [
    "# 6. Check for mixed-type"
   ]
  },
  {
   "cell_type": "code",
   "execution_count": 33,
   "id": "f25ecd3d",
   "metadata": {},
   "outputs": [
    {
     "name": "stdout",
     "output_type": "stream",
     "text": [
      "No mixed-type data in column: {col}\n",
      "No mixed-type data in column: {col}\n",
      "No mixed-type data in column: {col}\n",
      "No mixed-type data in column: {col}\n",
      "No mixed-type data in column: {col}\n",
      "No mixed-type data in column: {col}\n",
      "No mixed-type data in column: {col}\n",
      "No mixed-type data in column: {col}\n",
      "No mixed-type data in column: {col}\n",
      "No mixed-type data in column: {col}\n",
      "No mixed-type data in column: {col}\n",
      "No mixed-type data in column: {col}\n",
      "No mixed-type data in column: {col}\n",
      "Mixed-type data found in column: {col}\n"
     ]
    }
   ],
   "source": [
    "for col in df_covid_month.columns.tolist():\n",
    "    weird = (df_covid_month[[col]].map(type) != df_covid_month[[col]].iloc[0].apply(type)).any(axis = 1)\n",
    "    if len (df_covid_month[weird]) > 0:\n",
    "        print (\"Mixed-type data found in column: {col}\")\n",
    "    else: \n",
    "        print(\"No mixed-type data in column: {col}\")"
   ]
  },
  {
   "cell_type": "code",
   "execution_count": 34,
   "id": "37836987",
   "metadata": {},
   "outputs": [
    {
     "data": {
      "text/plain": [
       "Data As Of             object\n",
       "Start Date             object\n",
       "End Date               object\n",
       "Group                  object\n",
       "Year                  float64\n",
       "Month                 float64\n",
       "State                  object\n",
       "Condition Group        object\n",
       "Condition              object\n",
       "ICD10_codes            object\n",
       "Age Group              object\n",
       "COVID-19 Deaths       float64\n",
       "Number of Mentions    float64\n",
       "Flag                   object\n",
       "dtype: object"
      ]
     },
     "execution_count": 34,
     "metadata": {},
     "output_type": "execute_result"
    }
   ],
   "source": [
    "# Check the data-types of the dataframe\n",
    "df_covid_month.dtypes"
   ]
  },
  {
   "cell_type": "code",
   "execution_count": 35,
   "id": "423fe093",
   "metadata": {},
   "outputs": [],
   "source": [
    "# Convert date columns to datetime\n",
    "df_covid_month['Data As Of'] = pd.to_datetime(df_covid_month['Data As Of'])\n",
    "df_covid_month['Start Date'] = pd.to_datetime(df_covid_month['Start Date'])\n",
    "df_covid_month['End Date'] = pd.to_datetime(df_covid_month['End Date'])"
   ]
  },
  {
   "cell_type": "code",
   "execution_count": 61,
   "id": "391b8db4",
   "metadata": {},
   "outputs": [],
   "source": [
    "# Convert categorical columns to category type\n",
    "categorical_columns = ['State', 'Condition Group', 'Condition', 'ICD10_codes', 'Age Group', 'Flag']\n",
    "for column in categorical_columns:\n",
    "    df_covid_month[column] = df_covid_month[column].astype('category')"
   ]
  },
  {
   "cell_type": "code",
   "execution_count": 62,
   "id": "f1f5384a",
   "metadata": {},
   "outputs": [
    {
     "name": "stdout",
     "output_type": "stream",
     "text": [
      "No mixed-type data in column: {col}\n",
      "No mixed-type data in column: {col}\n",
      "No mixed-type data in column: {col}\n",
      "No mixed-type data in column: {col}\n",
      "No mixed-type data in column: {col}\n",
      "No mixed-type data in column: {col}\n",
      "No mixed-type data in column: {col}\n",
      "No mixed-type data in column: {col}\n",
      "No mixed-type data in column: {col}\n",
      "No mixed-type data in column: {col}\n",
      "No mixed-type data in column: {col}\n",
      "No mixed-type data in column: {col}\n",
      "Mixed-type data found in column: {col}\n"
     ]
    }
   ],
   "source": [
    "for col in df_covid_month.columns.tolist():\n",
    "        weird = (df_covid_month[[col]].map(type) != df_covid_month[[col]].iloc[0].apply(type)).any(axis = 1)\n",
    "        if len (df_covid_month[weird]) > 0:\n",
    "             print (\"Mixed-type data found in column: {col}\")\n",
    "        else: \n",
    "            print(\"No mixed-type data in column: {col}\")"
   ]
  },
  {
   "cell_type": "code",
   "execution_count": 39,
   "id": "00c8836e",
   "metadata": {},
   "outputs": [
    {
     "data": {
      "text/plain": [
       "Data As Of            datetime64[ns]\n",
       "Start Date            datetime64[ns]\n",
       "End Date              datetime64[ns]\n",
       "Group                         object\n",
       "Year                         float64\n",
       "Month                        float64\n",
       "State                       category\n",
       "Condition Group             category\n",
       "Condition                   category\n",
       "ICD10_codes                 category\n",
       "Age Group                   category\n",
       "COVID-19 Deaths              float64\n",
       "Number of Mentions           float64\n",
       "Flag                        category\n",
       "dtype: object"
      ]
     },
     "execution_count": 39,
     "metadata": {},
     "output_type": "execute_result"
    }
   ],
   "source": [
    "# Recheck the data-type\n",
    "df_covid_month.dtypes"
   ]
  },
  {
   "cell_type": "code",
   "execution_count": 40,
   "id": "75226ae1",
   "metadata": {},
   "outputs": [],
   "source": [
    "# Drop the group column as it only contains 'By Month' and is no longer need for sorting/filtering\n",
    "df_covid_month = df_covid_month.drop(columns=['Group'])"
   ]
  },
  {
   "cell_type": "code",
   "execution_count": 41,
   "id": "07df71f5",
   "metadata": {},
   "outputs": [
    {
     "data": {
      "text/plain": [
       "Index(['Data As Of', 'Start Date', 'End Date', 'Year', 'Month', 'State',\n",
       "       'Condition Group', 'Condition', 'ICD10_codes', 'Age Group',\n",
       "       'COVID-19 Deaths', 'Number of Mentions', 'Flag'],\n",
       "      dtype='object')"
      ]
     },
     "execution_count": 41,
     "metadata": {},
     "output_type": "execute_result"
    }
   ],
   "source": [
    "# Check the columns\n",
    "df_covid_month.columns"
   ]
  },
  {
   "cell_type": "markdown",
   "id": "fa80d902",
   "metadata": {},
   "source": [
    "# 7. Addressing errors and inconsistencies"
   ]
  },
  {
   "cell_type": "code",
   "execution_count": 42,
   "id": "fe5e4f7f",
   "metadata": {},
   "outputs": [],
   "source": [
    "# Filter out rows where State is 'United States', 'New York City', or 'Puerto Rico'\n",
    "df_covid_states = df_covid_month[~df_covid_month['State'].isin(['United States', 'Puerto Rico'])]"
   ]
  },
  {
   "cell_type": "markdown",
   "id": "fab2ef5e",
   "metadata": {},
   "source": [
    "#### The Age Group 'All Ages' represents aggregated data and those rows will be removed consistent with the removal of other aggregated data rows in the dataframe."
   ]
  },
  {
   "cell_type": "code",
   "execution_count": 43,
   "id": "5a790c8d",
   "metadata": {},
   "outputs": [],
   "source": [
    "# Remove rows where Age Group is 'All Ages'\n",
    "df_covid_cleaned = df_covid_states[df_covid_states['Age Group'] != 'All Ages']"
   ]
  },
  {
   "cell_type": "markdown",
   "id": "de1fca2b",
   "metadata": {},
   "source": [
    "#### In the Age Group column 'Not Stated' rows always have zero COVID-19 Deaths and zero Number of Mentions.\n",
    "#### In the Age Group column 'Not Stated' rows have no data in deaths and mentions, these rows do not contribute meaningfil information to the analysis so it will be remove."
   ]
  },
  {
   "cell_type": "code",
   "execution_count": 44,
   "id": "687fac2e",
   "metadata": {},
   "outputs": [],
   "source": [
    "# Remove rows where Age Group is 'Not Stated'\n",
    "df_covid_final_cleaned = df_covid_cleaned[df_covid_cleaned['Age Group'] != 'Not stated']"
   ]
  },
  {
   "cell_type": "markdown",
   "id": "7ab0ee9b",
   "metadata": {},
   "source": [
    "### Check statictics of the numerical columns."
   ]
  },
  {
   "cell_type": "code",
   "execution_count": 45,
   "id": "4e179deb",
   "metadata": {},
   "outputs": [
    {
     "data": {
      "text/html": [
       "<div>\n",
       "<style scoped>\n",
       "    .dataframe tbody tr th:only-of-type {\n",
       "        vertical-align: middle;\n",
       "    }\n",
       "\n",
       "    .dataframe tbody tr th {\n",
       "        vertical-align: top;\n",
       "    }\n",
       "\n",
       "    .dataframe thead th {\n",
       "        text-align: right;\n",
       "    }\n",
       "</style>\n",
       "<table border=\"1\" class=\"dataframe\">\n",
       "  <thead>\n",
       "    <tr style=\"text-align: right;\">\n",
       "      <th></th>\n",
       "      <th>Year</th>\n",
       "      <th>Month</th>\n",
       "      <th>COVID-19 Deaths</th>\n",
       "      <th>Number of Mentions</th>\n",
       "    </tr>\n",
       "  </thead>\n",
       "  <tbody>\n",
       "    <tr>\n",
       "      <th>count</th>\n",
       "      <td>430560.000000</td>\n",
       "      <td>430560.000000</td>\n",
       "      <td>430560.000000</td>\n",
       "      <td>430560.000000</td>\n",
       "    </tr>\n",
       "    <tr>\n",
       "      <th>mean</th>\n",
       "      <td>2021.400000</td>\n",
       "      <td>6.200000</td>\n",
       "      <td>10.910916</td>\n",
       "      <td>11.780560</td>\n",
       "    </tr>\n",
       "    <tr>\n",
       "      <th>std</th>\n",
       "      <td>1.083206</td>\n",
       "      <td>3.350626</td>\n",
       "      <td>53.958537</td>\n",
       "      <td>57.090522</td>\n",
       "    </tr>\n",
       "    <tr>\n",
       "      <th>min</th>\n",
       "      <td>2020.000000</td>\n",
       "      <td>1.000000</td>\n",
       "      <td>0.000000</td>\n",
       "      <td>0.000000</td>\n",
       "    </tr>\n",
       "    <tr>\n",
       "      <th>25%</th>\n",
       "      <td>2020.000000</td>\n",
       "      <td>3.000000</td>\n",
       "      <td>0.000000</td>\n",
       "      <td>0.000000</td>\n",
       "    </tr>\n",
       "    <tr>\n",
       "      <th>50%</th>\n",
       "      <td>2021.000000</td>\n",
       "      <td>6.000000</td>\n",
       "      <td>1.000000</td>\n",
       "      <td>1.000000</td>\n",
       "    </tr>\n",
       "    <tr>\n",
       "      <th>75%</th>\n",
       "      <td>2022.000000</td>\n",
       "      <td>9.000000</td>\n",
       "      <td>7.000000</td>\n",
       "      <td>8.000000</td>\n",
       "    </tr>\n",
       "    <tr>\n",
       "      <th>max</th>\n",
       "      <td>2023.000000</td>\n",
       "      <td>12.000000</td>\n",
       "      <td>5094.000000</td>\n",
       "      <td>5094.000000</td>\n",
       "    </tr>\n",
       "  </tbody>\n",
       "</table>\n",
       "</div>"
      ],
      "text/plain": [
       "                Year          Month  COVID-19 Deaths  Number of Mentions\n",
       "count  430560.000000  430560.000000    430560.000000       430560.000000\n",
       "mean     2021.400000       6.200000        10.910916           11.780560\n",
       "std         1.083206       3.350626        53.958537           57.090522\n",
       "min      2020.000000       1.000000         0.000000            0.000000\n",
       "25%      2020.000000       3.000000         0.000000            0.000000\n",
       "50%      2021.000000       6.000000         1.000000            1.000000\n",
       "75%      2022.000000       9.000000         7.000000            8.000000\n",
       "max      2023.000000      12.000000      5094.000000         5094.000000"
      ]
     },
     "execution_count": 45,
     "metadata": {},
     "output_type": "execute_result"
    }
   ],
   "source": [
    "df_covid_final_cleaned[['Year', 'Month', 'COVID-19 Deaths', 'Number of Mentions']].describe()"
   ]
  },
  {
   "cell_type": "code",
   "execution_count": 46,
   "id": "b3985b95",
   "metadata": {
    "scrolled": true
   },
   "outputs": [
    {
     "data": {
      "image/png": "[encoded data removed]",
      "text/plain": [
       "<Figure size 1000x600 with 1 Axes>"
      ]
     },
     "metadata": {},
     "output_type": "display_data"
    }
   ],
   "source": [
    "# Distribution plots for Year column\n",
    "numerical_columns = ['Year']\n",
    "for col in numerical_columns:\n",
    "    plt.figure(figsize=(10,6))\n",
    "    sns.histplot(df_covid_final_cleaned[col], bins=50, kde=True, color = '#c94f8a')\n",
    "    plt.title('Distribution of Year')\n",
    "    plt.xlabel('Year')\n",
    "    plt.ylabel('Frequency')\n",
    "    plt.show()"
   ]
  },
  {
   "cell_type": "markdown",
   "id": "279c5d67",
   "metadata": {},
   "source": [
    "#### Year column represents data spans from 2020 to 2023."
   ]
  },
  {
   "cell_type": "code",
   "execution_count": 47,
   "id": "20117ec9",
   "metadata": {},
   "outputs": [
    {
     "data": {
      "image/png": "[encoded data removed]",
      "text/plain": [
       "<Figure size 1000x600 with 1 Axes>"
      ]
     },
     "metadata": {},
     "output_type": "display_data"
    }
   ],
   "source": [
    "# Distribution plots for Month column\n",
    "numerical_columns = ['Month']\n",
    "for col in numerical_columns:\n",
    "    plt.figure(figsize=(10,6))\n",
    "    sns.histplot(df_covid_final_cleaned[col], bins=50, kde=True, color = '#c94f8a')\n",
    "    plt.title('Distribution of Month')\n",
    "    plt.xlabel('Month')\n",
    "    plt.ylabel('Frequency')\n",
    "    plt.show()"
   ]
  },
  {
   "cell_type": "markdown",
   "id": "52f3fb14",
   "metadata": {},
   "source": [
    "#### Month column represents data spans from january (1) to December (12) except in 2023 where data collection end in September (9)."
   ]
  },
  {
   "cell_type": "code",
   "execution_count": 48,
   "id": "4da069fc",
   "metadata": {},
   "outputs": [
    {
     "data": {
      "image/png": "[encoded data removed]",
      "text/plain": [
       "<Figure size 1000x600 with 1 Axes>"
      ]
     },
     "metadata": {},
     "output_type": "display_data"
    }
   ],
   "source": [
    "# Distribution plots for COVID-19 Deaths column\n",
    "numerical_columns = ['COVID-19 Deaths']\n",
    "for col in numerical_columns:\n",
    "    plt.figure(figsize=(10,6))\n",
    "    sns.histplot(df_covid_final_cleaned[col], bins=50, kde=True, color = '#c94f8a')\n",
    "    plt.title('Distribution of COVID-19 Deaths')\n",
    "    plt.xlabel('COVID-19 Deaths')\n",
    "    plt.ylabel('Frequency')\n",
    "    plt.show()"
   ]
  },
  {
   "cell_type": "code",
   "execution_count": 49,
   "id": "156a0264",
   "metadata": {},
   "outputs": [
    {
     "data": {
      "image/png": "[encoded data removed]",
      "text/plain": [
       "<Figure size 1000x600 with 1 Axes>"
      ]
     },
     "metadata": {},
     "output_type": "display_data"
    }
   ],
   "source": [
    "# Distribution plots for Number of Mentions column\n",
    "numerical_columns = ['Number of Mentions']\n",
    "for col in numerical_columns:\n",
    "    plt.figure(figsize=(10,6))\n",
    "    sns.histplot(df_covid_final_cleaned[col], bins=50, kde=True, color = '#c94f8a')\n",
    "    plt.title('Distribution of Number of Mentions')\n",
    "    plt.xlabel('Number of Mentions')\n",
    "    plt.ylabel('Frequency')\n",
    "    plt.show()"
   ]
  },
  {
   "cell_type": "markdown",
   "id": "f692868c",
   "metadata": {},
   "source": [
    "#### COVID-19 Deaths and Number of Mentions represents mean value relativelt low compared to maximum values. Both columns hace high standard deviation and median value is 1, and half of the entries have non-zero values."
   ]
  },
  {
   "cell_type": "code",
   "execution_count": 50,
   "id": "2b84a099",
   "metadata": {},
   "outputs": [
    {
     "data": {
      "text/html": [
       "<div>\n",
       "<style scoped>\n",
       "    .dataframe tbody tr th:only-of-type {\n",
       "        vertical-align: middle;\n",
       "    }\n",
       "\n",
       "    .dataframe tbody tr th {\n",
       "        vertical-align: top;\n",
       "    }\n",
       "\n",
       "    .dataframe thead th {\n",
       "        text-align: right;\n",
       "    }\n",
       "</style>\n",
       "<table border=\"1\" class=\"dataframe\">\n",
       "  <thead>\n",
       "    <tr style=\"text-align: right;\">\n",
       "      <th></th>\n",
       "      <th>Data As Of</th>\n",
       "      <th>Start Date</th>\n",
       "      <th>End Date</th>\n",
       "      <th>Year</th>\n",
       "      <th>Month</th>\n",
       "      <th>State</th>\n",
       "      <th>Condition Group</th>\n",
       "      <th>Condition</th>\n",
       "      <th>ICD10_codes</th>\n",
       "      <th>Age Group</th>\n",
       "      <th>COVID-19 Deaths</th>\n",
       "      <th>Number of Mentions</th>\n",
       "      <th>Flag</th>\n",
       "    </tr>\n",
       "  </thead>\n",
       "  <tbody>\n",
       "    <tr>\n",
       "      <th>72450</th>\n",
       "      <td>2023-09-24</td>\n",
       "      <td>2020-01-01</td>\n",
       "      <td>2020-01-31</td>\n",
       "      <td>2020.0</td>\n",
       "      <td>1.0</td>\n",
       "      <td>Alabama</td>\n",
       "      <td>Respiratory diseases</td>\n",
       "      <td>Influenza and pneumonia</td>\n",
       "      <td>J09-J18</td>\n",
       "      <td>0-24</td>\n",
       "      <td>0.0</td>\n",
       "      <td>0.0</td>\n",
       "      <td>NaN</td>\n",
       "    </tr>\n",
       "    <tr>\n",
       "      <th>72451</th>\n",
       "      <td>2023-09-24</td>\n",
       "      <td>2020-02-01</td>\n",
       "      <td>2020-02-29</td>\n",
       "      <td>2020.0</td>\n",
       "      <td>2.0</td>\n",
       "      <td>Alabama</td>\n",
       "      <td>Respiratory diseases</td>\n",
       "      <td>Influenza and pneumonia</td>\n",
       "      <td>J09-J18</td>\n",
       "      <td>0-24</td>\n",
       "      <td>0.0</td>\n",
       "      <td>0.0</td>\n",
       "      <td>NaN</td>\n",
       "    </tr>\n",
       "    <tr>\n",
       "      <th>72452</th>\n",
       "      <td>2023-09-24</td>\n",
       "      <td>2020-03-01</td>\n",
       "      <td>2020-03-31</td>\n",
       "      <td>2020.0</td>\n",
       "      <td>3.0</td>\n",
       "      <td>Alabama</td>\n",
       "      <td>Respiratory diseases</td>\n",
       "      <td>Influenza and pneumonia</td>\n",
       "      <td>J09-J18</td>\n",
       "      <td>0-24</td>\n",
       "      <td>0.0</td>\n",
       "      <td>0.0</td>\n",
       "      <td>NaN</td>\n",
       "    </tr>\n",
       "    <tr>\n",
       "      <th>72453</th>\n",
       "      <td>2023-09-24</td>\n",
       "      <td>2020-04-01</td>\n",
       "      <td>2020-04-30</td>\n",
       "      <td>2020.0</td>\n",
       "      <td>4.0</td>\n",
       "      <td>Alabama</td>\n",
       "      <td>Respiratory diseases</td>\n",
       "      <td>Influenza and pneumonia</td>\n",
       "      <td>J09-J18</td>\n",
       "      <td>0-24</td>\n",
       "      <td>0.0</td>\n",
       "      <td>0.0</td>\n",
       "      <td>NaN</td>\n",
       "    </tr>\n",
       "    <tr>\n",
       "      <th>72454</th>\n",
       "      <td>2023-09-24</td>\n",
       "      <td>2020-05-01</td>\n",
       "      <td>2020-05-31</td>\n",
       "      <td>2020.0</td>\n",
       "      <td>5.0</td>\n",
       "      <td>Alabama</td>\n",
       "      <td>Respiratory diseases</td>\n",
       "      <td>Influenza and pneumonia</td>\n",
       "      <td>J09-J18</td>\n",
       "      <td>0-24</td>\n",
       "      <td>0.0</td>\n",
       "      <td>0.0</td>\n",
       "      <td>NaN</td>\n",
       "    </tr>\n",
       "  </tbody>\n",
       "</table>\n",
       "</div>"
      ],
      "text/plain": [
       "      Data As Of Start Date   End Date    Year  Month    State  \\\n",
       "72450 2023-09-24 2020-01-01 2020-01-31  2020.0    1.0  Alabama   \n",
       "72451 2023-09-24 2020-02-01 2020-02-29  2020.0    2.0  Alabama   \n",
       "72452 2023-09-24 2020-03-01 2020-03-31  2020.0    3.0  Alabama   \n",
       "72453 2023-09-24 2020-04-01 2020-04-30  2020.0    4.0  Alabama   \n",
       "72454 2023-09-24 2020-05-01 2020-05-31  2020.0    5.0  Alabama   \n",
       "\n",
       "            Condition Group                Condition ICD10_codes Age Group  \\\n",
       "72450  Respiratory diseases  Influenza and pneumonia     J09-J18      0-24   \n",
       "72451  Respiratory diseases  Influenza and pneumonia     J09-J18      0-24   \n",
       "72452  Respiratory diseases  Influenza and pneumonia     J09-J18      0-24   \n",
       "72453  Respiratory diseases  Influenza and pneumonia     J09-J18      0-24   \n",
       "72454  Respiratory diseases  Influenza and pneumonia     J09-J18      0-24   \n",
       "\n",
       "       COVID-19 Deaths  Number of Mentions Flag  \n",
       "72450              0.0                 0.0  NaN  \n",
       "72451              0.0                 0.0  NaN  \n",
       "72452              0.0                 0.0  NaN  \n",
       "72453              0.0                 0.0  NaN  \n",
       "72454              0.0                 0.0  NaN  "
      ]
     },
     "execution_count": 50,
     "metadata": {},
     "output_type": "execute_result"
    }
   ],
   "source": [
    "# Final check before export file\n",
    "df_covid_final_cleaned.head()"
   ]
  },
  {
   "cell_type": "code",
   "execution_count": 51,
   "id": "c0386f16",
   "metadata": {},
   "outputs": [
    {
     "name": "stdout",
     "output_type": "stream",
     "text": [
      "<class 'pandas.core.frame.DataFrame'>\n",
      "Index: 430560 entries, 72450 to 610559\n",
      "Data columns (total 13 columns):\n",
      " #   Column              Non-Null Count   Dtype         \n",
      "---  ------              --------------   -----         \n",
      " 0   Data As Of          430560 non-null  datetime64[ns]\n",
      " 1   Start Date          430560 non-null  datetime64[ns]\n",
      " 2   End Date            430560 non-null  datetime64[ns]\n",
      " 3   Year                430560 non-null  float64       \n",
      " 4   Month               430560 non-null  float64       \n",
      " 5   State               430560 non-null  category      \n",
      " 6   Condition Group     430560 non-null  category      \n",
      " 7   Condition           430560 non-null  category      \n",
      " 8   ICD10_codes         430560 non-null  category      \n",
      " 9   Age Group           430560 non-null  category      \n",
      " 10  COVID-19 Deaths     430560 non-null  float64       \n",
      " 11  Number of Mentions  430560 non-null  float64       \n",
      " 12  Flag                150829 non-null  category      \n",
      "dtypes: category(6), datetime64[ns](3), float64(4)\n",
      "memory usage: 28.7 MB\n"
     ]
    }
   ],
   "source": [
    "df_covid_final_cleaned.info()"
   ]
  },
  {
   "cell_type": "code",
   "execution_count": 52,
   "id": "df6b22c0",
   "metadata": {},
   "outputs": [
    {
     "data": {
      "text/plain": [
       "(430560, 13)"
      ]
     },
     "execution_count": 52,
     "metadata": {},
     "output_type": "execute_result"
    }
   ],
   "source": [
    "df_covid_final_cleaned.shape"
   ]
  },
  {
   "cell_type": "code",
   "execution_count": 53,
   "id": "24cebe44",
   "metadata": {
    "scrolled": true
   },
   "outputs": [
    {
     "data": {
      "text/html": [
       "<div>\n",
       "<style scoped>\n",
       "    .dataframe tbody tr th:only-of-type {\n",
       "        vertical-align: middle;\n",
       "    }\n",
       "\n",
       "    .dataframe tbody tr th {\n",
       "        vertical-align: top;\n",
       "    }\n",
       "\n",
       "    .dataframe thead th {\n",
       "        text-align: right;\n",
       "    }\n",
       "</style>\n",
       "<table border=\"1\" class=\"dataframe\">\n",
       "  <thead>\n",
       "    <tr style=\"text-align: right;\">\n",
       "      <th></th>\n",
       "      <th>Data As Of</th>\n",
       "      <th>Start Date</th>\n",
       "      <th>End Date</th>\n",
       "      <th>Year</th>\n",
       "      <th>Month</th>\n",
       "      <th>COVID-19 Deaths</th>\n",
       "      <th>Number of Mentions</th>\n",
       "    </tr>\n",
       "  </thead>\n",
       "  <tbody>\n",
       "    <tr>\n",
       "      <th>count</th>\n",
       "      <td>484380</td>\n",
       "      <td>484380</td>\n",
       "      <td>484380</td>\n",
       "      <td>484380.000000</td>\n",
       "      <td>484380.000000</td>\n",
       "      <td>484380.000000</td>\n",
       "      <td>484380.000000</td>\n",
       "    </tr>\n",
       "    <tr>\n",
       "      <th>mean</th>\n",
       "      <td>2023-09-24 00:00:00</td>\n",
       "      <td>2021-10-31 07:28:00.000000768</td>\n",
       "      <td>2021-11-29 13:51:59.999999488</td>\n",
       "      <td>2021.400000</td>\n",
       "      <td>6.200000</td>\n",
       "      <td>9.699523</td>\n",
       "      <td>10.472600</td>\n",
       "    </tr>\n",
       "    <tr>\n",
       "      <th>min</th>\n",
       "      <td>2023-09-24 00:00:00</td>\n",
       "      <td>2020-01-01 00:00:00</td>\n",
       "      <td>2020-01-31 00:00:00</td>\n",
       "      <td>2020.000000</td>\n",
       "      <td>1.000000</td>\n",
       "      <td>0.000000</td>\n",
       "      <td>0.000000</td>\n",
       "    </tr>\n",
       "    <tr>\n",
       "      <th>25%</th>\n",
       "      <td>2023-09-24 00:00:00</td>\n",
       "      <td>2020-12-01 00:00:00</td>\n",
       "      <td>2020-12-31 00:00:00</td>\n",
       "      <td>2020.000000</td>\n",
       "      <td>3.000000</td>\n",
       "      <td>0.000000</td>\n",
       "      <td>0.000000</td>\n",
       "    </tr>\n",
       "    <tr>\n",
       "      <th>50%</th>\n",
       "      <td>2023-09-24 00:00:00</td>\n",
       "      <td>2021-11-01 00:00:00</td>\n",
       "      <td>2021-11-30 00:00:00</td>\n",
       "      <td>2021.000000</td>\n",
       "      <td>6.000000</td>\n",
       "      <td>0.000000</td>\n",
       "      <td>0.000000</td>\n",
       "    </tr>\n",
       "    <tr>\n",
       "      <th>75%</th>\n",
       "      <td>2023-09-24 00:00:00</td>\n",
       "      <td>2022-10-01 00:00:00</td>\n",
       "      <td>2022-10-31 00:00:00</td>\n",
       "      <td>2022.000000</td>\n",
       "      <td>9.000000</td>\n",
       "      <td>7.000000</td>\n",
       "      <td>7.000000</td>\n",
       "    </tr>\n",
       "    <tr>\n",
       "      <th>max</th>\n",
       "      <td>2023-09-24 00:00:00</td>\n",
       "      <td>2023-09-01 00:00:00</td>\n",
       "      <td>2023-09-23 00:00:00</td>\n",
       "      <td>2023.000000</td>\n",
       "      <td>12.000000</td>\n",
       "      <td>5094.000000</td>\n",
       "      <td>5094.000000</td>\n",
       "    </tr>\n",
       "    <tr>\n",
       "      <th>std</th>\n",
       "      <td>NaN</td>\n",
       "      <td>NaN</td>\n",
       "      <td>NaN</td>\n",
       "      <td>1.083206</td>\n",
       "      <td>3.350625</td>\n",
       "      <td>50.987901</td>\n",
       "      <td>53.952499</td>\n",
       "    </tr>\n",
       "  </tbody>\n",
       "</table>\n",
       "</div>"
      ],
      "text/plain": [
       "                Data As Of                     Start Date  \\\n",
       "count               484380                         484380   \n",
       "mean   2023-09-24 00:00:00  2021-10-31 07:28:00.000000768   \n",
       "min    2023-09-24 00:00:00            2020-01-01 00:00:00   \n",
       "25%    2023-09-24 00:00:00            2020-12-01 00:00:00   \n",
       "50%    2023-09-24 00:00:00            2021-11-01 00:00:00   \n",
       "75%    2023-09-24 00:00:00            2022-10-01 00:00:00   \n",
       "max    2023-09-24 00:00:00            2023-09-01 00:00:00   \n",
       "std                    NaN                            NaN   \n",
       "\n",
       "                            End Date           Year          Month  \\\n",
       "count                         484380  484380.000000  484380.000000   \n",
       "mean   2021-11-29 13:51:59.999999488    2021.400000       6.200000   \n",
       "min              2020-01-31 00:00:00    2020.000000       1.000000   \n",
       "25%              2020-12-31 00:00:00    2020.000000       3.000000   \n",
       "50%              2021-11-30 00:00:00    2021.000000       6.000000   \n",
       "75%              2022-10-31 00:00:00    2022.000000       9.000000   \n",
       "max              2023-09-23 00:00:00    2023.000000      12.000000   \n",
       "std                              NaN       1.083206       3.350625   \n",
       "\n",
       "       COVID-19 Deaths  Number of Mentions  \n",
       "count    484380.000000       484380.000000  \n",
       "mean          9.699523           10.472600  \n",
       "min           0.000000            0.000000  \n",
       "25%           0.000000            0.000000  \n",
       "50%           0.000000            0.000000  \n",
       "75%           7.000000            7.000000  \n",
       "max        5094.000000         5094.000000  \n",
       "std          50.987901           53.952499  "
      ]
     },
     "execution_count": 53,
     "metadata": {},
     "output_type": "execute_result"
    }
   ],
   "source": [
    "df_covid_cleaned.describe()"
   ]
  },
  {
   "cell_type": "code",
   "execution_count": 54,
   "id": "55ed6f79",
   "metadata": {},
   "outputs": [
    {
     "data": {
      "text/plain": [
       "State\n",
       "Alabama                 8280\n",
       "Montana                 8280\n",
       "Nevada                  8280\n",
       "New Hampshire           8280\n",
       "New Jersey              8280\n",
       "New Mexico              8280\n",
       "New York                8280\n",
       "New York City           8280\n",
       "North Carolina          8280\n",
       "North Dakota            8280\n",
       "Ohio                    8280\n",
       "Oklahoma                8280\n",
       "Oregon                  8280\n",
       "Pennsylvania            8280\n",
       "Rhode Island            8280\n",
       "South Carolina          8280\n",
       "South Dakota            8280\n",
       "Tennessee               8280\n",
       "Texas                   8280\n",
       "Utah                    8280\n",
       "Vermont                 8280\n",
       "Virginia                8280\n",
       "Washington              8280\n",
       "West Virginia           8280\n",
       "Wisconsin               8280\n",
       "Alaska                  8280\n",
       "Nebraska                8280\n",
       "Missouri                8280\n",
       "Mississippi             8280\n",
       "Arizona                 8280\n",
       "Arkansas                8280\n",
       "California              8280\n",
       "Colorado                8280\n",
       "Connecticut             8280\n",
       "Delaware                8280\n",
       "District of Columbia    8280\n",
       "Florida                 8280\n",
       "Georgia                 8280\n",
       "Hawaii                  8280\n",
       "Idaho                   8280\n",
       "Wyoming                 8280\n",
       "Illinois                8280\n",
       "Indiana                 8280\n",
       "Iowa                    8280\n",
       "Kansas                  8280\n",
       "Kentucky                8280\n",
       "Louisiana               8280\n",
       "Maine                   8280\n",
       "Maryland                8280\n",
       "Massachusetts           8280\n",
       "Michigan                8280\n",
       "Minnesota               8280\n",
       "United States              0\n",
       "Puerto Rico                0\n",
       "Name: count, dtype: int64"
      ]
     },
     "execution_count": 54,
     "metadata": {},
     "output_type": "execute_result"
    }
   ],
   "source": [
    "df_covid_final_cleaned['State'].value_counts(dropna=False)"
   ]
  },
  {
   "cell_type": "code",
   "execution_count": 55,
   "id": "0db49380",
   "metadata": {},
   "outputs": [
    {
     "data": {
      "text/plain": [
       "Condition Group\n",
       "Circulatory diseases                                                         131040\n",
       "Respiratory diseases                                                         112320\n",
       "All other conditions and causes (residual)                                    18720\n",
       "Alzheimer disease                                                             18720\n",
       "COVID-19                                                                      18720\n",
       "Diabetes                                                                      18720\n",
       "Intentional and unintentional injury, poisoning, and other adverse events     18720\n",
       "Malignant neoplasms                                                           18720\n",
       "Obesity                                                                       18720\n",
       "Renal failure                                                                 18720\n",
       "Sepsis                                                                        18720\n",
       "Vascular and unspecified dementia                                             18720\n",
       "Name: count, dtype: int64"
      ]
     },
     "execution_count": 55,
     "metadata": {},
     "output_type": "execute_result"
    }
   ],
   "source": [
    "df_covid_final_cleaned['Condition Group'].value_counts(dropna=False)"
   ]
  },
  {
   "cell_type": "code",
   "execution_count": 56,
   "id": "eede31b6",
   "metadata": {},
   "outputs": [
    {
     "data": {
      "text/plain": [
       "Condition\n",
       "Adult respiratory distress syndrome                                          18720\n",
       "Intentional and unintentional injury, poisoning, and other adverse events    18720\n",
       "Sepsis                                                                       18720\n",
       "Respiratory failure                                                          18720\n",
       "Respiratory arrest                                                           18720\n",
       "Renal failure                                                                18720\n",
       "Other diseases of the respiratory system                                     18720\n",
       "Other diseases of the circulatory system                                     18720\n",
       "Obesity                                                                      18720\n",
       "Malignant neoplasms                                                          18720\n",
       "Ischemic heart disease                                                       18720\n",
       "Influenza and pneumonia                                                      18720\n",
       "All other conditions and causes (residual)                                   18720\n",
       "Hypertensive diseases                                                        18720\n",
       "Heart failure                                                                18720\n",
       "Diabetes                                                                     18720\n",
       "Chronic lower respiratory diseases                                           18720\n",
       "Cerebrovascular diseases                                                     18720\n",
       "Cardiac arrhythmia                                                           18720\n",
       "Cardiac arrest                                                               18720\n",
       "COVID-19                                                                     18720\n",
       "Alzheimer disease                                                            18720\n",
       "Vascular and unspecified dementia                                            18720\n",
       "Name: count, dtype: int64"
      ]
     },
     "execution_count": 56,
     "metadata": {},
     "output_type": "execute_result"
    }
   ],
   "source": [
    "df_covid_final_cleaned['Condition'].value_counts(dropna=False)"
   ]
  },
  {
   "cell_type": "code",
   "execution_count": 57,
   "id": "fcead532",
   "metadata": {},
   "outputs": [
    {
     "data": {
      "text/plain": [
       "ICD10_codes\n",
       "A00-A39, A42-B99, D00-E07, E15-E64, E70-E90, F00, F02, F04-G26, G31-H95, K00-K93, L00-M99, N00-N16, N20-N98, O00-O99, P00-P96, Q00-Q99, R00-R08, R09.0, R09.1, R09.3, R09.8, R10-R99    18720\n",
       "I50                                                                                                                                                                                     18720\n",
       "S00-T98, V01-X59, X60-X84, X85-Y09, Y10-Y36, Y40-Y89, U01-U03                                                                                                                           18720\n",
       "R09.2                                                                                                                                                                                   18720\n",
       "N17-N19                                                                                                                                                                                 18720\n",
       "J96                                                                                                                                                                                     18720\n",
       "J80                                                                                                                                                                                     18720\n",
       "J40-J47                                                                                                                                                                                 18720\n",
       "J09-J18                                                                                                                                                                                 18720\n",
       "J00-J06, J20-J39, J60-J70, J81-J86, J90-J95, J97-J99, U04                                                                                                                               18720\n",
       "I60-I69                                                                                                                                                                                 18720\n",
       "I46                                                                                                                                                                                     18720\n",
       "A40-A41                                                                                                                                                                                 18720\n",
       "I44, I45, I47-I49                                                                                                                                                                       18720\n",
       "I20-I25                                                                                                                                                                                 18720\n",
       "I10-I15                                                                                                                                                                                 18720\n",
       "I00-I09, I26-I43, I51, I52, I70-I99                                                                                                                                                     18720\n",
       "G30                                                                                                                                                                                     18720\n",
       "F01, F03                                                                                                                                                                                18720\n",
       "E65-E68                                                                                                                                                                                 18720\n",
       "E10-E14                                                                                                                                                                                 18720\n",
       "C00-C97                                                                                                                                                                                 18720\n",
       "U071                                                                                                                                                                                    18720\n",
       "Name: count, dtype: int64"
      ]
     },
     "execution_count": 57,
     "metadata": {},
     "output_type": "execute_result"
    }
   ],
   "source": [
    "df_covid_final_cleaned['ICD10_codes'].value_counts(dropna=False)"
   ]
  },
  {
   "cell_type": "code",
   "execution_count": 58,
   "id": "d563fe56",
   "metadata": {},
   "outputs": [
    {
     "data": {
      "text/plain": [
       "Age Group\n",
       "0-24          53820\n",
       "25-34         53820\n",
       "35-44         53820\n",
       "45-54         53820\n",
       "55-64         53820\n",
       "65-74         53820\n",
       "75-84         53820\n",
       "85+           53820\n",
       "All Ages          0\n",
       "Not stated        0\n",
       "Name: count, dtype: int64"
      ]
     },
     "execution_count": 58,
     "metadata": {},
     "output_type": "execute_result"
    }
   ],
   "source": [
    "df_covid_final_cleaned['Age Group'].value_counts(dropna=False)"
   ]
  },
  {
   "cell_type": "code",
   "execution_count": 59,
   "id": "b4b7eee2",
   "metadata": {},
   "outputs": [
    {
     "data": {
      "text/plain": [
       "Flag\n",
       "NaN                                                                                                                           279731\n",
       "One or more data cells have counts between 1-9 and have been suppressed in accordance with NCHS confidentiality standards.    150829\n",
       "Name: count, dtype: int64"
      ]
     },
     "execution_count": 59,
     "metadata": {},
     "output_type": "execute_result"
    }
   ],
   "source": [
    "df_covid_final_cleaned['Flag'].value_counts(dropna=False)"
   ]
  },
  {
   "cell_type": "markdown",
   "id": "3f9ea9a3",
   "metadata": {},
   "source": [
    "# 8. Export dataframe file to 'Prepared Data' folder"
   ]
  },
  {
   "cell_type": "code",
   "execution_count": 60,
   "id": "ab8ad19d",
   "metadata": {},
   "outputs": [],
   "source": [
    "# Exporting \"df_covid_final_cleaned\" dataframe to CSV\n",
    "df_covid_final_cleaned.to_csv(os.path.join(path, '02 Data', 'Prepared Data', 'Cleaned_Conditions_Contributing_to_COVID-19_Deaths_by_State_and_Age_Provisional_2020-2023.csv'), index=False)"
   ]
  },
  {
   "cell_type": "code",
   "execution_count": null,
   "id": "50e6adfc",
   "metadata": {},
   "outputs": [],
   "source": []
  }
 ],
 "metadata": {
  "kernelspec": {
   "display_name": "Python 3 (ipykernel)",
   "language": "python",
   "name": "python3"
  },
  "language_info": {
   "codemirror_mode": {
    "name": "ipython",
    "version": 3
   },
   "file_extension": ".py",
   "mimetype": "text/x-python",
   "name": "python",
   "nbconvert_exporter": "python",
   "pygments_lexer": "ipython3",
   "version": "3.11.5"
  }
 },
 "nbformat": 4,
 "nbformat_minor": 5
}
